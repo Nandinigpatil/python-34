{
 "cells": [
  {
   "cell_type": "code",
   "execution_count": null,
   "id": "182e53e0",
   "metadata": {},
   "outputs": [],
   "source": [
    "lambda input: output expression"
   ]
  },
  {
   "cell_type": "code",
   "execution_count": 1,
   "id": "4a267c66",
   "metadata": {},
   "outputs": [
    {
     "data": {
      "text/plain": [
       "105"
      ]
     },
     "execution_count": 1,
     "metadata": {},
     "output_type": "execute_result"
    }
   ],
   "source": [
    "(lambda x,y : x+y)(45,60)"
   ]
  },
  {
   "cell_type": "code",
   "execution_count": 2,
   "id": "11f4af1a",
   "metadata": {},
   "outputs": [
    {
     "data": {
      "text/plain": [
       "'Pythonjava'"
      ]
     },
     "execution_count": 2,
     "metadata": {},
     "output_type": "execute_result"
    }
   ],
   "source": [
    "(lambda x,y : x+y)('Python','java')"
   ]
  },
  {
   "cell_type": "code",
   "execution_count": 3,
   "id": "83ef91db",
   "metadata": {},
   "outputs": [],
   "source": [
    "#x2+2xy+y2"
   ]
  },
  {
   "cell_type": "code",
   "execution_count": 5,
   "id": "e5c3b510",
   "metadata": {},
   "outputs": [
    {
     "data": {
      "text/plain": [
       "900"
      ]
     },
     "execution_count": 5,
     "metadata": {},
     "output_type": "execute_result"
    }
   ],
   "source": [
    "(lambda x,y : x if x>y else y)(900,56)"
   ]
  },
  {
   "cell_type": "code",
   "execution_count": 6,
   "id": "ff7c57f5",
   "metadata": {},
   "outputs": [
    {
     "data": {
      "text/plain": [
       "36"
      ]
     },
     "execution_count": 6,
     "metadata": {},
     "output_type": "execute_result"
    }
   ],
   "source": [
    "(lambda x,y: x**2+2*x*y+y**2)(2,4)"
   ]
  },
  {
   "cell_type": "code",
   "execution_count": null,
   "id": "e76a8d16",
   "metadata": {},
   "outputs": [],
   "source": [
    "map\n",
    "filter"
   ]
  },
  {
   "cell_type": "code",
   "execution_count": 7,
   "id": "ad1ca5ae",
   "metadata": {},
   "outputs": [],
   "source": [
    "p = [2,5,8,3,89,3,8,3]"
   ]
  },
  {
   "cell_type": "code",
   "execution_count": null,
   "id": "2872e277",
   "metadata": {},
   "outputs": [],
   "source": [
    "[4,25,64,9,7921,9,64,9]"
   ]
  },
  {
   "cell_type": "code",
   "execution_count": 9,
   "id": "e68cfeb6",
   "metadata": {},
   "outputs": [],
   "source": [
    "sqr = []\n",
    "for i in p:\n",
    "    sqr.append(i**2)"
   ]
  },
  {
   "cell_type": "code",
   "execution_count": 10,
   "id": "a907504f",
   "metadata": {},
   "outputs": [
    {
     "data": {
      "text/plain": [
       "[4, 25, 64, 9, 7921, 9, 64, 9]"
      ]
     },
     "execution_count": 10,
     "metadata": {},
     "output_type": "execute_result"
    }
   ],
   "source": [
    "sqr"
   ]
  },
  {
   "cell_type": "code",
   "execution_count": 11,
   "id": "32096a79",
   "metadata": {},
   "outputs": [],
   "source": [
    "p = [2,5,8,3,89,3,8,3]\n",
    "\n",
    "def sqr(element):\n",
    "    return element**2"
   ]
  },
  {
   "cell_type": "code",
   "execution_count": 12,
   "id": "31465326",
   "metadata": {},
   "outputs": [
    {
     "data": {
      "text/plain": [
       "[4, 25, 64, 9, 7921, 9, 64, 9]"
      ]
     },
     "execution_count": 12,
     "metadata": {},
     "output_type": "execute_result"
    }
   ],
   "source": [
    "list(map(sqr,p))"
   ]
  },
  {
   "cell_type": "code",
   "execution_count": 13,
   "id": "ada557c6",
   "metadata": {},
   "outputs": [
    {
     "data": {
      "text/plain": [
       "[4, 25, 64, 9, 7921, 9, 64, 9]"
      ]
     },
     "execution_count": 13,
     "metadata": {},
     "output_type": "execute_result"
    }
   ],
   "source": [
    "list(map(lambda w : w**2,p))"
   ]
  },
  {
   "cell_type": "code",
   "execution_count": 14,
   "id": "733e047d",
   "metadata": {},
   "outputs": [],
   "source": [
    "p = ['Python','java','hadoop','scala','pyspark']"
   ]
  },
  {
   "cell_type": "code",
   "execution_count": 15,
   "id": "2a9c1bf4",
   "metadata": {},
   "outputs": [
    {
     "data": {
      "text/plain": [
       "[6, 4, 6, 5, 7]"
      ]
     },
     "execution_count": 15,
     "metadata": {},
     "output_type": "execute_result"
    }
   ],
   "source": [
    "list(map(lambda x : len(x),p))"
   ]
  },
  {
   "cell_type": "code",
   "execution_count": 16,
   "id": "61908b83",
   "metadata": {},
   "outputs": [],
   "source": [
    "py = ['asf@gmail.com','asfsdaf@yahoo.com','asfsdaf@gmail.com','asfsdaf@gmail.com']"
   ]
  },
  {
   "cell_type": "code",
   "execution_count": 18,
   "id": "a7c8004f",
   "metadata": {},
   "outputs": [],
   "source": [
    "py_list = list(map(lambda x : x.split('@')[0],py))"
   ]
  },
  {
   "cell_type": "code",
   "execution_count": 19,
   "id": "7865ec3d",
   "metadata": {},
   "outputs": [
    {
     "data": {
      "text/plain": [
       "['asf', 'asfsdaf', 'asfsdaf', 'asfsdaf']"
      ]
     },
     "execution_count": 19,
     "metadata": {},
     "output_type": "execute_result"
    }
   ],
   "source": [
    "py_list"
   ]
  },
  {
   "cell_type": "code",
   "execution_count": 20,
   "id": "6fb025d1",
   "metadata": {},
   "outputs": [],
   "source": [
    "py_dict = {'name':'Jon','sal':75000,'city':'Pune'}"
   ]
  },
  {
   "cell_type": "code",
   "execution_count": 24,
   "id": "1437dc90",
   "metadata": {},
   "outputs": [
    {
     "data": {
      "text/plain": [
       "['Jon', 75000, 'Pune']"
      ]
     },
     "execution_count": 24,
     "metadata": {},
     "output_type": "execute_result"
    }
   ],
   "source": [
    "list(map(lambda x: x ,py_dict.values()))"
   ]
  },
  {
   "cell_type": "code",
   "execution_count": null,
   "id": "44e8818d",
   "metadata": {},
   "outputs": [],
   "source": [
    "data --> "
   ]
  },
  {
   "cell_type": "code",
   "execution_count": 25,
   "id": "7461809d",
   "metadata": {},
   "outputs": [],
   "source": [
    "sal = ['151515','1616196','105151','1651561891','1616161','1561515']"
   ]
  },
  {
   "cell_type": "code",
   "execution_count": 26,
   "id": "7afbf7a8",
   "metadata": {},
   "outputs": [
    {
     "data": {
      "text/plain": [
       "[151515, 1616196, 105151, 1651561891, 1616161, 1561515]"
      ]
     },
     "execution_count": 26,
     "metadata": {},
     "output_type": "execute_result"
    }
   ],
   "source": [
    "list(map(lambda x: int(x),sal))"
   ]
  },
  {
   "cell_type": "code",
   "execution_count": null,
   "id": "3f9442d6",
   "metadata": {},
   "outputs": [],
   "source": [
    "limitation :\n",
    "    seq --> function\n",
    "    \n",
    "    function map --> seq/list,tuple"
   ]
  },
  {
   "cell_type": "code",
   "execution_count": null,
   "id": "6351d9b0",
   "metadata": {},
   "outputs": [],
   "source": [
    "#filter"
   ]
  },
  {
   "cell_type": "code",
   "execution_count": 27,
   "id": "2a5e5cc2",
   "metadata": {},
   "outputs": [
    {
     "data": {
      "text/plain": [
       "['Python', 'java', 'hadoop', 'scala', 'pyspark']"
      ]
     },
     "execution_count": 27,
     "metadata": {},
     "output_type": "execute_result"
    }
   ],
   "source": [
    "p"
   ]
  },
  {
   "cell_type": "code",
   "execution_count": 28,
   "id": "af285b12",
   "metadata": {},
   "outputs": [],
   "source": [
    "p = [345,7,34,75,24,745,24,7535,674]"
   ]
  },
  {
   "cell_type": "code",
   "execution_count": 29,
   "id": "ab5ef1e1",
   "metadata": {},
   "outputs": [],
   "source": [
    "even = []\n",
    "\n",
    "for i in p:\n",
    "    if i%2==0:\n",
    "        even.append(i)"
   ]
  },
  {
   "cell_type": "code",
   "execution_count": 30,
   "id": "e0ef8e10",
   "metadata": {},
   "outputs": [
    {
     "data": {
      "text/plain": [
       "[34, 24, 24, 674]"
      ]
     },
     "execution_count": 30,
     "metadata": {},
     "output_type": "execute_result"
    }
   ],
   "source": [
    "even"
   ]
  },
  {
   "cell_type": "code",
   "execution_count": 31,
   "id": "c5f15dc4",
   "metadata": {},
   "outputs": [],
   "source": [
    "p = [345,7,34,75,24,745,24,7535,674]"
   ]
  },
  {
   "cell_type": "code",
   "execution_count": 32,
   "id": "7265fe27",
   "metadata": {},
   "outputs": [
    {
     "data": {
      "text/plain": [
       "[34, 24, 24, 674]"
      ]
     },
     "execution_count": 32,
     "metadata": {},
     "output_type": "execute_result"
    }
   ],
   "source": [
    "list(filter(lambda x : x%2==0 ,p))"
   ]
  },
  {
   "cell_type": "code",
   "execution_count": 33,
   "id": "d4fe50f0",
   "metadata": {},
   "outputs": [],
   "source": [
    "p = [234,34324,534543,234,634,23434,634,'sdfsdf',23535,34634,234,6,'sdfgsdfg',16191]"
   ]
  },
  {
   "cell_type": "code",
   "execution_count": 36,
   "id": "2fd0d636",
   "metadata": {},
   "outputs": [
    {
     "data": {
      "text/plain": [
       "[234, 34324, 534543, 234, 634, 23434, 634, 23535, 34634, 234, 6, 16191]"
      ]
     },
     "execution_count": 36,
     "metadata": {},
     "output_type": "execute_result"
    }
   ],
   "source": [
    "list(filter(lambda x: str(x).isnumeric() ,p))"
   ]
  },
  {
   "cell_type": "code",
   "execution_count": 37,
   "id": "1a312073",
   "metadata": {},
   "outputs": [],
   "source": [
    "py = ['asf@gmail.com','asfsdaf@yahoo.com','asfsdaf@gmail.com','asfsdaf@gmail.com']"
   ]
  },
  {
   "cell_type": "code",
   "execution_count": 48,
   "id": "d8636820",
   "metadata": {},
   "outputs": [
    {
     "data": {
      "text/plain": [
       "['asf@gmail.com',\n",
       " 'asfsdaf@yahoo.com',\n",
       " 'asfsdaf@gmail.com',\n",
       " 'asfsdaf@gmail.com']"
      ]
     },
     "execution_count": 48,
     "metadata": {},
     "output_type": "execute_result"
    }
   ],
   "source": [
    "list(filter(lambda x: x.split('@')[1] in ['gmail.com','yahoo.com'] ,py))"
   ]
  },
  {
   "cell_type": "code",
   "execution_count": 44,
   "id": "d5f3ccf9",
   "metadata": {},
   "outputs": [],
   "source": [
    "p = 'asfsdaf@gmail.com'"
   ]
  },
  {
   "cell_type": "code",
   "execution_count": 47,
   "id": "4421eafa",
   "metadata": {},
   "outputs": [
    {
     "data": {
      "text/plain": [
       "'gmail.com'"
      ]
     },
     "execution_count": 47,
     "metadata": {},
     "output_type": "execute_result"
    }
   ],
   "source": [
    "p.split('@')[1]"
   ]
  },
  {
   "cell_type": "code",
   "execution_count": null,
   "id": "259af08d",
   "metadata": {},
   "outputs": [],
   "source": []
  }
 ],
 "metadata": {
  "kernelspec": {
   "display_name": "Python 3",
   "language": "python",
   "name": "python3"
  },
  "language_info": {
   "codemirror_mode": {
    "name": "ipython",
    "version": 3
   },
   "file_extension": ".py",
   "mimetype": "text/x-python",
   "name": "python",
   "nbconvert_exporter": "python",
   "pygments_lexer": "ipython3",
   "version": "3.8.8"
  }
 },
 "nbformat": 4,
 "nbformat_minor": 5
}
